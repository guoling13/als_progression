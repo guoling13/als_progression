{
 "cells": [
  {
   "cell_type": "markdown",
   "id": "77c3c2f5-eb5d-4aca-984f-688a82603132",
   "metadata": {},
   "source": [
    "# Summary\n",
    "Clean and merge raw csv files into one file for analysis"
   ]
  },
  {
   "cell_type": "code",
   "execution_count": null,
   "id": "68e7325c-3b82-4ca8-891e-5e1b6ae21417",
   "metadata": {},
   "outputs": [],
   "source": [
    "import numpy as np\n",
    "import matplotlib.pyplot as plt\n",
    "import pandas as pd\n",
    "import re"
   ]
  },
  {
   "cell_type": "markdown",
   "id": "b49ba280-3ea5-49d3-af6e-cc8a14089a03",
   "metadata": {
    "tags": []
   },
   "source": [
    "# Demographics"
   ]
  },
  {
   "cell_type": "code",
   "execution_count": null,
   "id": "95555204-859b-40c2-b090-c0818374ebfb",
   "metadata": {},
   "outputs": [],
   "source": [
    "# read demographics\n",
    "df = pd.read_csv('../Data/demographics.csv')"
   ]
  },
  {
   "cell_type": "markdown",
   "id": "74a89799-523d-4e01-8988-a289d49a7a43",
   "metadata": {},
   "source": [
    "## Age"
   ]
  },
  {
   "cell_type": "code",
   "execution_count": null,
   "id": "e21182d9-a44a-4d8d-8cbe-db292b5c0515",
   "metadata": {},
   "outputs": [],
   "source": [
    "# calculate age using date of birth\n",
    "df['Date_of_Birth'] = df['Date_of_Birth']/-365\n",
    "df['Age'] = df[['Date_of_Birth','Age']].fillna(method='ffill',axis=1)['Age']"
   ]
  },
  {
   "cell_type": "markdown",
   "id": "5a31703c-a7bf-42ef-a5e4-97ae74dec549",
   "metadata": {},
   "source": [
    "## Sex"
   ]
  },
  {
   "cell_type": "code",
   "execution_count": null,
   "id": "08492d23-0604-477e-9665-d28b36fe38c7",
   "metadata": {},
   "outputs": [],
   "source": [
    "# Encode sex\n",
    "df['Sex'] = df['Sex'].replace({'Male':1,'Female':0})"
   ]
  },
  {
   "cell_type": "markdown",
   "id": "416e329a-5f02-4a88-9123-f0b4a593222f",
   "metadata": {},
   "source": [
    "## Race"
   ]
  },
  {
   "cell_type": "code",
   "execution_count": null,
   "id": "d22101a7-68ce-4951-9cd8-095b8ac5c2ed",
   "metadata": {},
   "outputs": [],
   "source": [
    "# Encode race\n",
    "df['race'] = df[['Race_Americ_Indian_Alaska_Native', 'Race_Asian', 'Race_Black_African_American', 'Race_Hawaiian_Pacific_Islander', 'Race_Caucasian', 'Race_Other']].fillna(method='ffill',axis=1)['Race_Other']\n",
    "df.loc[df['race']==1,\n",
    "       ['Race_Americ_Indian_Alaska_Native', \n",
    "        'Race_Asian', 'Race_Black_African_American', 'Race_Hawaiian_Pacific_Islander', \n",
    "        'Race_Caucasian', 'Race_Other']] = df.loc[df['race']==1, \n",
    "                                                  ['Race_Americ_Indian_Alaska_Native', 'Race_Asian', 'Race_Black_African_American', 'Race_Hawaiian_Pacific_Islander', 'Race_Caucasian', 'Race_Other']].fillna(0)"
   ]
  },
  {
   "cell_type": "code",
   "execution_count": null,
   "id": "8c37b1a8-a4d2-4dce-98d6-5b97f32faaa0",
   "metadata": {},
   "outputs": [],
   "source": [
    "# clean up columns\n",
    "df = df.drop(columns=['Demographics_Delta', 'Date_of_Birth','Ethnicity','Race_Unknown','Race_Other_Specify','race'])\n",
    "# drop entries with missing age or sex\n",
    "df = df.dropna(subset=['Age','Sex'])"
   ]
  },
  {
   "cell_type": "code",
   "execution_count": null,
   "id": "46538361-1488-4adf-87cd-14c674b5d6f8",
   "metadata": {},
   "outputs": [],
   "source": [
    "df.to_csv('ALSdatacleaned.csv')"
   ]
  },
  {
   "cell_type": "markdown",
   "id": "ce652907-3007-4873-8d64-1f6a861d582a",
   "metadata": {
    "tags": []
   },
   "source": [
    "# ALS history"
   ]
  },
  {
   "cell_type": "code",
   "execution_count": null,
   "id": "883475f4-f487-4e60-85e2-5db5717fe48f",
   "metadata": {},
   "outputs": [],
   "source": [
    "# read ALS history data\n",
    "history = pd.read_csv('../Data/AlsHistory.csv')"
   ]
  },
  {
   "cell_type": "code",
   "execution_count": null,
   "id": "0ad251be-3fff-407d-a4ec-74a914423d30",
   "metadata": {},
   "outputs": [],
   "source": [
    "# rename columns\n",
    "history = history.rename({'Site_of_Onset___Bulbar':'site_bulbar',\n",
    "                          'Site_of_Onset___Limb':'site_limb',\n",
    "                          'Site_of_Onset___Spine':'site_spine',\n",
    "                          'Site_of_Onset___Other':'site_other'}, axis=1)\n",
    "# one hot encoding site of onset\n",
    "history.loc[history['Site_of_Onset']=='Onset: Limb','site_limb']=1\n",
    "history.loc[history['Site_of_Onset']=='Onset: Bulbar','site_bulbar']=1\n",
    "history.loc[history['Site_of_Onset']=='Onset: Limb and Bulbar','site_limb']=1 \n",
    "history.loc[history['Site_of_Onset']=='Onset: Limb and Bulbar','site_bulbar']=1\n",
    "history.loc[history['Site_of_Onset']=='Onset: Other','site_other']=1\n",
    "history.loc[history['Site_of_Onset']=='Onset: Spine','site_spine']=1"
   ]
  },
  {
   "cell_type": "code",
   "execution_count": null,
   "id": "509ebee1-263b-4a91-8045-800616f0b25d",
   "metadata": {},
   "outputs": [],
   "source": [
    "# clean up columns\n",
    "history = history.drop(columns=['Site_of_Onset___Other_Specify','Site_of_Onset___Limb_and_Bulbar','Subject_ALS_History_Delta','Disease_Duration','Symptom','Symptom_Other_Specify','Location',\n",
    "                                'Location_Other_Specify','Site_of_Onset'])\n",
    "history = history.drop_duplicates()\n",
    "history = history.groupby('subject_id').agg(np.nanmean).reset_index()\n",
    "history['site'] = history[['site_bulbar','site_limb','site_other','site_spine']].fillna(method='ffill',axis=1)['site_spine']"
   ]
  },
  {
   "cell_type": "code",
   "execution_count": null,
   "id": "f773b0ba-82e3-4a9b-a619-86cdd284d3f2",
   "metadata": {},
   "outputs": [],
   "source": [
    "# drop entries with missing onset site\n",
    "history = history.dropna(subset=['site'])\n",
    "history[['site_bulbar','site_limb','site_other','site_spine']] = history[['site_bulbar','site_limb','site_other','site_spine']].fillna(0)\n",
    "history = history.drop(columns='site')"
   ]
  },
  {
   "cell_type": "code",
   "execution_count": null,
   "id": "1d95dd01-c671-4270-b2bd-fe2b3c0ae716",
   "metadata": {},
   "outputs": [],
   "source": [
    "# merge history data with demographics\n",
    "df = df.merge(history, how='left',on='subject_id')"
   ]
  },
  {
   "cell_type": "code",
   "execution_count": null,
   "id": "f0334700-0507-42aa-93e4-5066ead5c637",
   "metadata": {},
   "outputs": [],
   "source": [
    "df = df.dropna(subset=['site_limb']) # drop subjects with no site of onset info"
   ]
  },
  {
   "cell_type": "code",
   "execution_count": null,
   "id": "dab21cad-8ba7-424c-a8c2-fc0815925734",
   "metadata": {},
   "outputs": [],
   "source": [
    "df.to_csv('ALSdatacleaned.csv')"
   ]
  },
  {
   "cell_type": "markdown",
   "id": "6e68fee8-1f3f-4d25-aaa5-6f4155bae159",
   "metadata": {
    "tags": []
   },
   "source": [
    "# Riluzole"
   ]
  },
  {
   "cell_type": "code",
   "execution_count": null,
   "id": "53669c54-68f6-4ad1-ad24-65050c15fcde",
   "metadata": {},
   "outputs": [],
   "source": [
    "# read riluzole use data\n",
    "riluzole = pd.read_csv('../Data/Riluzole.csv')"
   ]
  },
  {
   "cell_type": "code",
   "execution_count": null,
   "id": "b58f3720-a2d5-4e8f-a737-29d9220ae424",
   "metadata": {},
   "outputs": [],
   "source": [
    "# Assume that Riluzole use delta is the assessment date, not when subject started using riluzole. Hence we will only look at the 'Subject_used_Riluzole' column\n",
    "riluzole['RiluzoleUse'] = riluzole['Subject_used_Riluzole'].replace({'Yes':1,'No':0})\n",
    "df = df.merge(riluzole[['subject_id','RiluzoleUse']], how='left',on='subject_id')"
   ]
  },
  {
   "cell_type": "code",
   "execution_count": null,
   "id": "2fd1b377-4740-4a61-8a9b-e660a91154ef",
   "metadata": {},
   "outputs": [],
   "source": [
    "df.to_csv('ALSdatacleaned.csv')"
   ]
  },
  {
   "cell_type": "markdown",
   "id": "59837fd4-180e-4cdf-9b2c-2e140ef3f0be",
   "metadata": {
    "tags": []
   },
   "source": [
    "# Vital signs"
   ]
  },
  {
   "cell_type": "code",
   "execution_count": null,
   "id": "e90f2613-ec13-4dd3-b97d-9e53fefb4af8",
   "metadata": {},
   "outputs": [],
   "source": [
    "# read vital signs data\n",
    "vitalsigns = pd.read_csv('../Data/VitalSigns.csv')"
   ]
  },
  {
   "cell_type": "code",
   "execution_count": null,
   "id": "994c6b9f-86c8-4c75-ad17-3fc82c5f29e9",
   "metadata": {},
   "outputs": [],
   "source": [
    "# Drop irrelevant columns\n",
    "vitalsigns = vitalsigns.drop(columns=['Temperature','Temperature_Units','Baseline_Standing_BP_Diastolic','Baseline_Standing_BP_Systolic',\n",
    "                                      'Baseline_Supine_BP_Diastolic','Baseline_Supine_BP_Systolic','Baseline_Weight','Endpoint_Supine_Pulse',\n",
    "                                      'Endpoint_Standing_Pulse','Baseline_Supine_Pulse','Baseline_Standing_Pulse','Endpoint_Weight',\n",
    "                                      'Endpoint_Standing_BP_Diastolic','Endpoint_Standing_BP_Systolic','Endpoint_Supine_BP_Diastolic',\n",
    "                                      'Endpoint_Supine_BP_Systolic'])"
   ]
  },
  {
   "cell_type": "markdown",
   "id": "57d67485-ef30-4675-baba-1c0c7b6b7874",
   "metadata": {},
   "source": [
    "## Clean measurement units"
   ]
  },
  {
   "cell_type": "code",
   "execution_count": null,
   "id": "f5e79d17-69ef-4bda-a7d2-f346fafe6500",
   "metadata": {},
   "outputs": [],
   "source": [
    "# Change height to cm\n",
    "vitalsigns.loc[vitalsigns['Height_Units']=='Inches','Height'] = vitalsigns.loc[vitalsigns['Height_Units']=='Inches','Height']*2.54"
   ]
  },
  {
   "cell_type": "code",
   "execution_count": null,
   "id": "68e47e27-8fed-436c-bf14-71d6fd69a95c",
   "metadata": {},
   "outputs": [],
   "source": [
    "# Change weight to kg\n",
    "vitalsigns.loc[vitalsigns['Weight_Units']=='Pounds','Weight'] = vitalsigns.loc[vitalsigns['Weight_Units']=='Pounds','Weight']*0.45359237"
   ]
  },
  {
   "cell_type": "code",
   "execution_count": null,
   "id": "400e2ecc-eff6-46e0-bfc3-cb6c7494f7be",
   "metadata": {
    "collapsed": true,
    "jupyter": {
     "outputs_hidden": true
    },
    "tags": []
   },
   "outputs": [],
   "source": [
    "# Resolve outliers\n",
    "vitalsigns[vitalsigns['Weight']>160]\n",
    "vitalsigns.loc[(vitalsigns['subject_id']==456990) & (vitalsigns['Vital_Signs_Delta']==98),'Weight'] = vitalsigns.loc[(vitalsigns['subject_id']==456990) & (vitalsigns['Vital_Signs_Delta']==98),'Weight']*0.45359237"
   ]
  },
  {
   "cell_type": "code",
   "execution_count": null,
   "id": "0bf7831d-dca3-45d3-9a97-253996041373",
   "metadata": {},
   "outputs": [],
   "source": [
    "# Drop units columns\n",
    "vitalsigns = vitalsigns.drop(columns=['Blood_Pressure_Diastolic_Units','Blood_Pressure_Systolic_Units','Height_Units','Pulse_Units',\n",
    "                                      'Respiratory_Rate_Units','Weight_Units'])"
   ]
  },
  {
   "cell_type": "markdown",
   "id": "376f50b3-c2fb-42de-bfe1-9aa029a46616",
   "metadata": {},
   "source": [
    "## Fill missing values from other columns/rows"
   ]
  },
  {
   "cell_type": "markdown",
   "id": "ecaf165f-d38f-4e4f-93c1-b8f865c5f212",
   "metadata": {},
   "source": [
    "For mising pulse and BP, fill with average of supine and standing pulse/BP"
   ]
  },
  {
   "cell_type": "code",
   "execution_count": null,
   "id": "f589c975-c85d-4333-8e96-fcb50d256744",
   "metadata": {},
   "outputs": [],
   "source": [
    "vitalsigns['pulse_avg'] = vitalsigns[['Supine_Pulse','Standing_Pulse']].mean(axis=1)\n",
    "vitalsigns['bp_dia_avg'] = vitalsigns[['Supine_BP_Diastolic','Standing_BP_Diastolic']].mean(axis=1)\n",
    "vitalsigns['bp_sys_avg'] = vitalsigns[['Supine_BP_Systolic','Standing_BP_Systolic']].mean(axis=1)"
   ]
  },
  {
   "cell_type": "code",
   "execution_count": null,
   "id": "77623ae6-52f3-4cb1-95be-12c4573bd125",
   "metadata": {},
   "outputs": [],
   "source": [
    "vitalsigns['Pulse'] = vitalsigns[['pulse_avg','Pulse']].fillna(method='ffill',axis=1)['Pulse']\n",
    "vitalsigns['BP_Diastolic'] = vitalsigns[['bp_dia_avg','Blood_Pressure_Diastolic']].fillna(method='ffill',axis=1)['Blood_Pressure_Diastolic']\n",
    "vitalsigns['BP_Systolic'] = vitalsigns[['bp_sys_avg','Blood_Pressure_Systolic']].fillna(method='ffill',axis=1)['Blood_Pressure_Systolic']"
   ]
  },
  {
   "cell_type": "code",
   "execution_count": null,
   "id": "b3117512-3c78-4902-9058-78b7283a9b8e",
   "metadata": {},
   "outputs": [],
   "source": [
    "vitalsigns = vitalsigns.drop(columns=['Blood_Pressure_Diastolic','Blood_Pressure_Systolic','Supine_Pulse','Standing_Pulse',\n",
    "                                      'Supine_BP_Diastolic','Supine_BP_Systolic','Standing_BP_Diastolic','Standing_BP_Systolic',\n",
    "                                      'pulse_avg','bp_dia_avg','bp_sys_avg'])"
   ]
  },
  {
   "cell_type": "code",
   "execution_count": null,
   "id": "b32767d2-782e-47c0-aefd-da6a7160d82c",
   "metadata": {},
   "outputs": [],
   "source": [
    "# 3 subjects with very different height values across deltas\n",
    "vitalsigns.groupby('subject_id').std()[vitalsigns.groupby('subject_id').std()['Height'] > 4]\n",
    "# For these subjects, pick the last delta=0 measurement\n",
    "vitalsigns.loc[vitalsigns['subject_id']==315843,'Height'] = 188\n",
    "vitalsigns.loc[vitalsigns['subject_id']==482961,'Height'] = 175\n",
    "vitalsigns.loc[vitalsigns['subject_id']==759362,'Height'] = 154"
   ]
  },
  {
   "cell_type": "code",
   "execution_count": null,
   "id": "cf75a7fc-a9c5-4c11-b494-5a047434fa56",
   "metadata": {},
   "outputs": [],
   "source": [
    "# For the rest of the subjects, height is the mean of all height measurements\n",
    "vitalsigns['Height'] = vitalsigns.groupby('subject_id')['Height'].transform(np.nanmean)"
   ]
  },
  {
   "cell_type": "code",
   "execution_count": null,
   "id": "b56089a9-018d-4401-bd51-002a876f1a74",
   "metadata": {},
   "outputs": [],
   "source": [
    "vitalsigns = vitalsigns.drop_duplicates()"
   ]
  },
  {
   "cell_type": "markdown",
   "id": "7b54efcc-5301-4eac-835d-3df0407284a1",
   "metadata": {},
   "source": [
    "## Merge height"
   ]
  },
  {
   "cell_type": "markdown",
   "id": "07abd5fe-b47f-4e87-8825-0d64d55d1afd",
   "metadata": {},
   "source": [
    "Merge height first since height should be the same regardless of delta"
   ]
  },
  {
   "cell_type": "code",
   "execution_count": null,
   "id": "0597d04d-a091-4df6-a074-4a99bf8b2cbf",
   "metadata": {},
   "outputs": [],
   "source": [
    "height = vitalsigns[['subject_id','Height']].drop_duplicates()\n",
    "df = df.merge(height, how='left',on='subject_id')\n",
    "df.to_csv('ALSdatacleaned.csv')"
   ]
  },
  {
   "cell_type": "markdown",
   "id": "0e1f35c9-4db5-4286-a51d-98b55ae349a5",
   "metadata": {
    "tags": []
   },
   "source": [
    "## Further clean vital signs"
   ]
  },
  {
   "cell_type": "markdown",
   "id": "0bdc6b68-6a1e-42d2-883a-e6bf8670c83c",
   "metadata": {},
   "source": [
    "Drop entries with no delta, drop height column, than save all dynamic variables in another file"
   ]
  },
  {
   "cell_type": "code",
   "execution_count": null,
   "id": "1b40522e-eafc-4815-baf6-98a92005be22",
   "metadata": {},
   "outputs": [],
   "source": [
    "vitalsigns = vitalsigns.dropna(subset=['Vital_Signs_Delta'])\n",
    "vitalsigns = vitalsigns.drop(columns=['Height'])\n",
    "vitalsigns = vitalsigns.rename({'Vital_Signs_Delta':'delta'},axis=1)\n",
    "vitalsigns = vitalsigns.reset_index(drop=True)\n",
    "vitalsigns = vitalsigns.drop([21378]) #outlier weight from subject 323840"
   ]
  },
  {
   "cell_type": "code",
   "execution_count": null,
   "id": "1c69ad77-4936-40dc-b74c-4d338ba55cff",
   "metadata": {},
   "outputs": [],
   "source": [
    "# Average values from entries with same delta\n",
    "vitalsigns = vitalsigns.groupby(['subject_id','delta']).agg(np.nanmean).reset_index()"
   ]
  },
  {
   "cell_type": "code",
   "execution_count": null,
   "id": "3cba94ef-8bc8-4f68-b064-90341e7be9d4",
   "metadata": {},
   "outputs": [],
   "source": [
    "vitalsigns.to_csv('ALS_dynamicvars.csv')"
   ]
  },
  {
   "cell_type": "markdown",
   "id": "bacc6726-af21-498f-92ca-b702aecb0308",
   "metadata": {
    "tags": []
   },
   "source": [
    "# FVC  "
   ]
  },
  {
   "cell_type": "code",
   "execution_count": null,
   "id": "319644ca-ae7a-4a1e-ac6e-7edc64cc41ea",
   "metadata": {},
   "outputs": [],
   "source": [
    "# Read FVC data\n",
    "fvc = pd.read_csv('../Data/Fvc.csv')"
   ]
  },
  {
   "cell_type": "code",
   "execution_count": null,
   "id": "b39709c9-02f0-4291-9e64-ff1156d16555",
   "metadata": {},
   "outputs": [],
   "source": [
    "fvc = fvc.rename({'Forced_Vital_Capacity_Delta':'delta'},axis=1)\n",
    "fvc = fvc.dropna(subset=['delta'])\n",
    "fvc.loc[(fvc['subject_id']==56109) & (fvc['delta']==131),'Subject_Normal'] = 2.38 # correct outlier"
   ]
  },
  {
   "cell_type": "code",
   "execution_count": null,
   "id": "30d6b1a4-01ad-4029-a9a4-2b2d7a0ed04b",
   "metadata": {},
   "outputs": [],
   "source": [
    "# average fvc from multiple trials\n",
    "fvc['FVC_abs'] = fvc[['Subject_Liters_Trial_1','Subject_Liters_Trial_2','Subject_Liters_Trial_3']].apply(np.nanmean,axis=1)\n",
    "fvc['FVC_perc'] = fvc[['pct_of_Normal_Trial_1','pct_of_Normal_Trial_2','pct_of_Normal_Trial_3']].apply(np.nanmean,axis=1)"
   ]
  },
  {
   "cell_type": "code",
   "execution_count": null,
   "id": "372a8b87-3167-4edd-8ba7-9662e2572bd5",
   "metadata": {},
   "outputs": [],
   "source": [
    "fvc = fvc.dropna(subset=['FVC_abs','FVC_perc'], how='all') # drop entries with no fvc measurements"
   ]
  },
  {
   "cell_type": "code",
   "execution_count": null,
   "id": "fce88791-01a8-408e-96e0-135c5ccd2065",
   "metadata": {},
   "outputs": [],
   "source": [
    "# Change all FVC_perc to proportion \n",
    "\n",
    "# For entries with normal, recompute fvc perc\n",
    "fvc.loc[fvc['Subject_Normal'].notnull(), 'FVC_perc'] = fvc.loc[fvc['Subject_Normal'].notnull(), 'FVC_abs']/fvc.loc[fvc['Subject_Normal'].notnull(), 'Subject_Normal'] \n",
    "\n",
    "# For entries with no normal and fvc is in %\n",
    "fvc.loc[(fvc['Subject_Normal'].isnull()) & (fvc['FVC_perc']>1.5), 'FVC_perc'] = fvc.loc[(fvc['Subject_Normal'].isnull()) & (fvc['FVC_perc']>1.5), 'FVC_perc']/100"
   ]
  },
  {
   "cell_type": "code",
   "execution_count": null,
   "id": "f4c7d1aa-177a-4fa3-a54d-6f0b09e0253a",
   "metadata": {},
   "outputs": [],
   "source": [
    "fvc = fvc.rename({'Subject_Normal':'FVC_normal'},axis=1)\n",
    "fvc = fvc[['subject_id','delta','FVC_abs','FVC_normal','FVC_perc']]"
   ]
  },
  {
   "cell_type": "code",
   "execution_count": null,
   "id": "492eab4e-0ccb-4a2b-98f7-c5cf36af400a",
   "metadata": {},
   "outputs": [],
   "source": [
    "# Average values from entries with same delta\n",
    "fvc = fvc.groupby(['subject_id','delta']).agg(np.nanmean).reset_index()"
   ]
  },
  {
   "cell_type": "code",
   "execution_count": null,
   "id": "aba46494-b1af-451e-802d-a2403beee8ca",
   "metadata": {},
   "outputs": [],
   "source": [
    "# merge with vital signs\n",
    "vitalsigns = vitalsigns.merge(fvc, on=['subject_id','delta'], how='outer')"
   ]
  },
  {
   "cell_type": "code",
   "execution_count": null,
   "id": "10b4aa6c-abb7-4d27-8f66-cc2e73863494",
   "metadata": {},
   "outputs": [],
   "source": [
    "vitalsigns.to_csv('ALS_dynamicvars.csv')"
   ]
  },
  {
   "cell_type": "markdown",
   "id": "013ed532-c7db-4b74-963f-174897e4ef3d",
   "metadata": {
    "tags": []
   },
   "source": [
    "# Labs"
   ]
  },
  {
   "cell_type": "code",
   "execution_count": null,
   "id": "d44f475d-f865-4c00-8d46-11846e56dd45",
   "metadata": {},
   "outputs": [],
   "source": [
    "# Read labs data\n",
    "labs = pd.read_csv('../Data/Labs.csv')"
   ]
  },
  {
   "cell_type": "markdown",
   "id": "f897a806-7353-40b3-a6b5-51df9f45c012",
   "metadata": {},
   "source": [
    "## Get selected labs"
   ]
  },
  {
   "cell_type": "code",
   "execution_count": null,
   "id": "9d6bbf91-ae16-4133-bb49-a440f5b6df93",
   "metadata": {},
   "outputs": [],
   "source": [
    "labs['Test_Name'] = labs['Test_Name'].replace('Bilirubin (total)','Bilirubin (Total)')"
   ]
  },
  {
   "cell_type": "code",
   "execution_count": null,
   "id": "1d6410ff-5f59-41cf-9bf3-14fe41cdfd8a",
   "metadata": {},
   "outputs": [],
   "source": [
    "selected_labs = ['ALT(SGPT)','AST(SGOT)','Uric Acid','Blood Urea Nitrogen (BUN)','Albumin','Absolute Neutrophil Count','Protein','CK','Total Cholesterol',\n",
    "                 'Triglycerides','HbA1c (Glycated Hemoglobin)','Hemoglobin','Hematocrit','White Blood Cell (WBC)','Red Blood Cells (RBC)','Creatinine',\n",
    "                 'Sodium','Potassium','Chloride','Glucose','Platelets','Absolute Eosinophil Count','Alkaline Phosphatase','Bicarbonate','Calcium',\n",
    "                 'Absolute Lymphocyte Count','Absolute Monocyte Count','Absolute Basophil Count','Bilirubin (Total)', 'Bilirubin (Direct)',\n",
    "                 'Bilirubin (Indirect)','Gamma-glutamyltransferase','Lymphocytes','Monocytes','Basophils','Phosphorus','Eosinophils']"
   ]
  },
  {
   "cell_type": "code",
   "execution_count": null,
   "id": "72bb4168-6903-4209-a65c-84044529388c",
   "metadata": {},
   "outputs": [],
   "source": [
    "# look at selected labs only\n",
    "labs = labs[labs['Test_Name'].isin(selected_labs)]"
   ]
  },
  {
   "cell_type": "markdown",
   "id": "ede323cd-89a9-425e-87b3-3345f308e805",
   "metadata": {},
   "source": [
    "## Fix units"
   ]
  },
  {
   "cell_type": "code",
   "execution_count": null,
   "id": "a1b3e053-7284-44d7-87aa-af31ea54a71a",
   "metadata": {},
   "outputs": [],
   "source": [
    "# drop all non-numeric test results\n",
    "labs['Test_Result'] = labs['Test_Result'].replace(r'(?i)[a-z,+<>\\-\\s]','', regex=True).replace('',np.nan).astype(float)\n",
    "labs = labs.dropna(subset=['Test_Result'])"
   ]
  },
  {
   "cell_type": "code",
   "execution_count": null,
   "id": "1453a3be-3c23-4459-9dc4-19101efd1345",
   "metadata": {},
   "outputs": [],
   "source": [
    "# drop albumin readings with % unit\n",
    "labs = labs.drop(labs[(labs['Test_Name']=='Albumin') & (labs['Test_Unit']=='%')].index)"
   ]
  },
  {
   "cell_type": "code",
   "execution_count": null,
   "id": "8e3076e5-f30b-4826-81c1-79e536e241d8",
   "metadata": {},
   "outputs": [],
   "source": [
    "# standardize units for basophil\n",
    "labs.loc[(labs['Test_Name']=='Absolute Basophil Count') & (labs['Test_Unit']=='10E12/L'),'Test_Result'] = labs.loc[(labs['Test_Name']=='Absolute Basophil Count') \n",
    "                                                                                                                  & (labs['Test_Unit']=='10E12/L'),'Test_Result']*1e-3"
   ]
  },
  {
   "cell_type": "code",
   "execution_count": null,
   "id": "15bc6271-a59f-4a92-87cc-9a3bd6a5b30a",
   "metadata": {},
   "outputs": [],
   "source": [
    "# standardize units for red blood cells\n",
    "labs.loc[(labs['Test_Name']=='Red Blood Cells (RBC)') & (labs['Test_Unit']=='x10E12/L'),'Test_Result'] = labs.loc[(labs['Test_Name']=='Red Blood Cells (RBC)') \n",
    "                                                                                                                  & (labs['Test_Unit']=='x10E12/L'),'Test_Result']*1e-3"
   ]
  },
  {
   "cell_type": "code",
   "execution_count": null,
   "id": "5a0e28f5-69b6-4fc7-bfeb-20e92d04a267",
   "metadata": {},
   "outputs": [],
   "source": [
    "# drop these recordings as they tend to be repeats and are out of range\n",
    "labs = labs.reset_index(drop=True)\n",
    "labs = labs.drop(labs[(labs['Test_Name']=='Red Blood Cells (RBC)') & (labs['Test_Result']>1e4) & (labs['Test_Result']<1e5)].index)"
   ]
  },
  {
   "cell_type": "code",
   "execution_count": null,
   "id": "95a36b0e-09f7-4788-886c-da24cf7c836c",
   "metadata": {},
   "outputs": [],
   "source": [
    "labs = labs.reset_index(drop=True)\n",
    "labs = labs.drop(labs[(labs['Test_Unit'].isnull()) & (labs['Test_Name']=='Protein')].index) # drop rows with no protein unit as the measurement is not the same\n",
    "labs = labs.drop(labs[(labs['Test_Unit'].isnull()) & (labs['Test_Name']=='Platelets')].index)\n",
    "labs = labs.reset_index(drop=True)"
   ]
  },
  {
   "cell_type": "markdown",
   "id": "69552261-af16-43fd-aee8-5bffcd22b576",
   "metadata": {},
   "source": [
    "## Reshape dataframe"
   ]
  },
  {
   "cell_type": "code",
   "execution_count": null,
   "id": "ff4367b7-617e-403d-a2e4-5b36ea6dfb6a",
   "metadata": {},
   "outputs": [],
   "source": [
    "# rename lab names\n",
    "labs_names = ['ALT','AST','UricAcid','BUN','Albumin','AbsNeutroCount','Protein','CK','TotCholesterol',\n",
    "                 'Triglycerides','HbA1c','Hb','Hematocrit','WBC','RBC','Creatinine',\n",
    "                 'Sodium','Potassium','Chloride','Glucose','Platelets','AbsEosinophil','AlkalinePhosphatase','Bicarbonate','Calcium',\n",
    "                 'AbsLymphocyte','AbsMonocyte','AbsBasophil','BilirubinTotal', 'BilirubinDirect',\n",
    "                 'BilirubinIndirect','GGT','PercLymphocytes','PercMonocytes','PercBasophils','Phosphorus','PercEosinophils']\n",
    "labs['Test_Name'] = labs['Test_Name'].replace({key:value for key,value in zip(selected_labs, labs_names)})\n",
    "labs = labs.rename({'Laboratory_Delta':'delta'},axis=1)\n",
    "labs = labs.dropna(subset=['delta','Test_Result'])"
   ]
  },
  {
   "cell_type": "code",
   "execution_count": null,
   "id": "7cbde4e6-27e3-4031-baea-008844d27bfb",
   "metadata": {
    "tags": []
   },
   "outputs": [],
   "source": [
    "labs_pivot = labs[labs['Test_Name']==labs_names[0]][['subject_id','delta','Test_Result']].rename({'Test_Result':labs_names[0]},axis=1)\n",
    "labs_pivot = labs_pivot.groupby(['subject_id','delta']).agg(np.nanmean).reset_index()\n",
    "for name in labs_names[1:]:\n",
    "    lab_tmp = labs[labs['Test_Name']==name][['subject_id','delta','Test_Result']].rename({'Test_Result':name},axis=1)\n",
    "    lab_tmp = lab_tmp.groupby(['subject_id','delta']).agg(np.nanmean)\n",
    "    labs_pivot = labs_pivot.merge(lab_tmp, how='outer', on=['subject_id','delta'])"
   ]
  },
  {
   "cell_type": "markdown",
   "id": "b1b7bdb0-0028-438f-bc01-330df9af2d67",
   "metadata": {},
   "source": [
    "## Check and clean values"
   ]
  },
  {
   "cell_type": "code",
   "execution_count": null,
   "id": "961d9b10-867e-4581-ba2e-9b96a69930ea",
   "metadata": {},
   "outputs": [],
   "source": [
    "# convert assumed unit discrepancies\n",
    "labs_pivot.loc[labs_pivot['Hematocrit']<1, 'Hematocrit'] = labs_pivot.loc[labs_pivot['Hematocrit']<1, 'Hematocrit']*100\n",
    "labs_pivot.loc[labs_pivot['Glucose']<1, 'Glucose'] = labs_pivot.loc[labs_pivot['Glucose']<1, 'Glucose']*100\n",
    "labs_pivot.loc[labs_pivot['Platelets']>1000, 'Platelets'] = labs_pivot.loc[labs_pivot['Platelets']>1000, 'Platelets']/1000\n",
    "labs_pivot.loc[labs_pivot['Potassium']>20, 'Potassium'] = labs_pivot.loc[labs_pivot['Potassium']>20, 'Potassium']/10\n",
    "\n",
    "labs_pivot.loc[labs_pivot['RBC']==500,'RBC'] = 5000\n",
    "labs_pivot.loc[labs_pivot['RBC']==4.63,'RBC'] = 4630\n",
    "labs_pivot.loc[labs_pivot['RBC']==0.0345,'RBC'] = 3450\n",
    "labs_pivot.loc[labs_pivot['RBC']==0.0345,'RBC'] = 3450\n",
    "labs_pivot.loc[labs_pivot['RBC']<0.01,'RBC'] = labs_pivot.loc[labs_pivot['RBC']<0.01,'RBC']*1e6\n",
    "labs_pivot.loc[(labs_pivot['RBC']>1e6) & (labs_pivot['RBC']<1e7),'RBC'] = labs_pivot.loc[(labs_pivot['RBC']>1e6) & (labs_pivot['RBC']<1e7),'RBC']*1e-3\n",
    "labs_pivot.loc[(labs_pivot['RBC']>1e9) & (labs_pivot['RBC']<1e10),'RBC'] = labs_pivot.loc[(labs_pivot['RBC']>1e9) & (labs_pivot['RBC']<1e10),'RBC']*1e-6"
   ]
  },
  {
   "cell_type": "code",
   "execution_count": null,
   "id": "b7c81022-60b6-4aa9-b05d-29938ad44be7",
   "metadata": {
    "collapsed": true,
    "jupyter": {
     "outputs_hidden": true
    },
    "tags": []
   },
   "outputs": [],
   "source": [
    "# Remove outliers\n",
    "labs_pivot = labs_pivot.reset_index(drop=True)\n",
    "for name in labs_names:\n",
    "    outliers = labs_pivot[labs_pivot[name]>labs_pivot[name].mean()+50*labs_pivot[name].std()][['subject_id','delta',name]]\n",
    "    if len(outliers)>0:\n",
    "        print(outliers)\n",
    "        labs_pivot.loc[outliers.index, name] = np.nan"
   ]
  },
  {
   "cell_type": "code",
   "execution_count": null,
   "id": "9d49c390-f128-4a15-977e-7a9f5ee8e222",
   "metadata": {},
   "outputs": [],
   "source": [
    "# do it again\n",
    "for name in labs_names:\n",
    "    outliers = labs_pivot[labs_pivot[name]>labs_pivot[name].mean()+50*labs_pivot[name].std()][['subject_id','delta',name]]\n",
    "    if len(outliers)>0:\n",
    "        print(outliers)\n",
    "        labs_pivot.loc[outliers.index, name] = np.nan"
   ]
  },
  {
   "cell_type": "code",
   "execution_count": null,
   "id": "af3a08da-858b-4884-880a-7e567d5377ee",
   "metadata": {},
   "outputs": [],
   "source": [
    "labs_pivot.to_csv('ALS_labs_cleaned.csv')"
   ]
  },
  {
   "cell_type": "markdown",
   "id": "bfa4658a-c50d-4671-9af3-ca0fc26b5862",
   "metadata": {},
   "source": [
    "## Merge with vitalsigns"
   ]
  },
  {
   "cell_type": "code",
   "execution_count": null,
   "id": "4754c68a-2ed8-49af-9fd0-00d7f29c03cf",
   "metadata": {},
   "outputs": [],
   "source": [
    "vitalsigns = pd.read_csv('ALS_dynamicvars.csv',index_col=[0])\n",
    "vitalsigns = vitalsigns.merge(labs_pivot, on=['subject_id','delta'], how='outer')\n",
    "vitalsigns.to_csv('ALS_dynamicvars.csv')"
   ]
  },
  {
   "cell_type": "markdown",
   "id": "26098ac4-c869-4beb-8896-c1228e3bb9d4",
   "metadata": {},
   "source": [
    "# ALSFRS"
   ]
  },
  {
   "cell_type": "code",
   "execution_count": null,
   "id": "f0c18017-7c1f-4063-a4d3-414013c1acb0",
   "metadata": {},
   "outputs": [],
   "source": [
    "# Read ALSFRS data\n",
    "alsfrs = pd.read_csv('../Data/alsfrs.csv')"
   ]
  },
  {
   "cell_type": "code",
   "execution_count": null,
   "id": "5dc08427-ea0a-4984-8db4-83735fa41167",
   "metadata": {},
   "outputs": [],
   "source": [
    "# Drop unused columns\n",
    "alsfrs = alsfrs.drop(columns=['Mode_of_Administration','ALSFRS_Responded_By'])"
   ]
  },
  {
   "cell_type": "code",
   "execution_count": null,
   "id": "d4c2d9a8-b98c-4e57-9585-3065cf44e94d",
   "metadata": {},
   "outputs": [],
   "source": [
    "# rename columns\n",
    "alsfrs.columns = ['subject_id','alsfrs_q1','alsfrs_q2','alsfrs_q3','alsfrs_q4','alsfrs_q5a','alsfrs_q5b','alsfrs_q6','alsfrs_q7','alsfrs_q8','alsfrs_q9','alsfrs_q10',\n",
    "                  'delta','alsfrs','alsfrsr','alsfrs_r1','alsfrs_r2','alsfrs_r3']"
   ]
  },
  {
   "cell_type": "code",
   "execution_count": null,
   "id": "a9fc7715-77d1-4cda-a32e-7bd8e29e600a",
   "metadata": {},
   "outputs": [],
   "source": [
    "# average duplicates\n",
    "alsfrs = alsfrs.groupby(['subject_id','delta']).agg(np.nanmean).reset_index()"
   ]
  },
  {
   "cell_type": "code",
   "execution_count": null,
   "id": "a45fdf10-9322-4744-8ed6-b3686d0021c1",
   "metadata": {},
   "outputs": [],
   "source": [
    "# drop entries with no alsfrs and alsfrsr\n",
    "alsfrs = alsfrs.dropna(subset=['alsfrs','alsfrsr'], how='all')\n",
    "alsfrs = alsfrs.reset_index(drop=True)"
   ]
  },
  {
   "cell_type": "code",
   "execution_count": null,
   "id": "d5a72432-0728-4b0a-90cc-d72bc61f9406",
   "metadata": {},
   "outputs": [],
   "source": [
    "# merge with other dynamic vars\n",
    "vitalsigns = vitalsigns.merge(alsfrs, on=['subject_id','delta'], how='outer')"
   ]
  },
  {
   "cell_type": "code",
   "execution_count": null,
   "id": "d81fc462-9b24-4300-8fef-d5dbe29a4586",
   "metadata": {},
   "outputs": [],
   "source": [
    "vitalsigns.to_csv('ALS_dynamicvars.csv')"
   ]
  },
  {
   "cell_type": "markdown",
   "id": "5cdc08e2-0110-4583-95d8-8a03161f7ebb",
   "metadata": {},
   "source": [
    "# Merge static and dynamic vars"
   ]
  },
  {
   "cell_type": "markdown",
   "id": "28a203e6-d800-4479-9ee9-1b2e335bed98",
   "metadata": {
    "tags": []
   },
   "source": [
    "## Add and interpolate age and ALS history across deltas"
   ]
  },
  {
   "cell_type": "code",
   "execution_count": null,
   "id": "e6069e8b-859a-4220-850c-382871e4ce20",
   "metadata": {
    "tags": []
   },
   "outputs": [],
   "source": [
    "df = pd.read_csv('ALS_staticvars.csv', index_col=[0])\n",
    "vitalsigns = pd.read_csv('ALS_dynamicvars.csv', index_col=[0])"
   ]
  },
  {
   "cell_type": "code",
   "execution_count": null,
   "id": "15dc5b79-b8de-4228-96eb-eb7ee2f69688",
   "metadata": {
    "collapsed": true,
    "jupyter": {
     "outputs_hidden": true
    },
    "tags": []
   },
   "outputs": [],
   "source": [
    "# Add age to dynamic vars\n",
    "age = df[['subject_id','Age']]\n",
    "age['delta'] = 0\n",
    "age.head()"
   ]
  },
  {
   "cell_type": "code",
   "execution_count": null,
   "id": "ccd5e016-34d9-4729-8a43-ddd5064cde51",
   "metadata": {},
   "outputs": [],
   "source": [
    "for subject in vitalsigns['subject_id'].unique():\n",
    "    if subject in age['subject_id'].unique():\n",
    "        vitalsigns.loc[vitalsigns['subject_id']==subject,'Age'] = age.loc[age['subject_id']==subject, 'Age'].values[0] + (vitalsigns.loc[vitalsigns['subject_id']==subject,'delta']/365)"
   ]
  },
  {
   "cell_type": "code",
   "execution_count": null,
   "id": "2a8eb181-5329-47be-acb7-cbffec2c5c93",
   "metadata": {},
   "outputs": [],
   "source": [
    "for subject in vitalsigns['subject_id'].unique():\n",
    "    if subject in df['subject_id'].unique():\n",
    "        vitalsigns.loc[vitalsigns['subject_id']==subject,'Onset_Delta'] = df.loc[df['subject_id']==subject,'Onset_Delta'].values[0] - vitalsigns.loc[vitalsigns['subject_id']==subject,'delta']\n",
    "        vitalsigns.loc[vitalsigns['subject_id']==subject,'Diagnosis_Delta'] = df.loc[df['subject_id']==subject,'Diagnosis_Delta'].values[0] - vitalsigns.loc[vitalsigns['subject_id']==subject,'delta']"
   ]
  },
  {
   "cell_type": "code",
   "execution_count": null,
   "id": "bb11dec9-9820-4bc3-a6f6-4987e7a5e6a4",
   "metadata": {},
   "outputs": [],
   "source": [
    "vitalsigns.to_csv('ALS_dynamicvars.csv')"
   ]
  },
  {
   "cell_type": "markdown",
   "id": "5fc3b53a-b62c-4826-b7e2-8b968454c925",
   "metadata": {},
   "source": [
    "## Merge"
   ]
  },
  {
   "cell_type": "code",
   "execution_count": null,
   "id": "b7e137c3-d129-4b53-a7a7-5d8368c5f93a",
   "metadata": {},
   "outputs": [],
   "source": [
    "# some cleaning before merging\n",
    "df['site_limb'] = df['site_limb'] + df['site_spine']"
   ]
  },
  {
   "cell_type": "code",
   "execution_count": null,
   "id": "217a9d1e-02b4-432d-a53e-55344344627e",
   "metadata": {
    "tags": []
   },
   "outputs": [],
   "source": [
    "df = df.drop(columns=['Age', 'site_spine', 'site_other', 'Race_Other', 'Onset_Delta', 'Diagnosis_Delta']) # drop race_other because it means all the other races == 0, same for site_other"
   ]
  },
  {
   "cell_type": "code",
   "execution_count": null,
   "id": "7158ee11-88ab-499a-a9f1-a8f84d0c1fc5",
   "metadata": {},
   "outputs": [],
   "source": [
    "df = df.merge(vitalsigns, on='subject_id', how='left')"
   ]
  },
  {
   "cell_type": "code",
   "execution_count": null,
   "id": "d7555ff8-1beb-430f-a7dc-a323e24976fb",
   "metadata": {},
   "outputs": [],
   "source": [
    "df = df.reindex(columns=['subject_id', 'delta', 'Age', 'Sex', 'Race_Americ_Indian_Alaska_Native', 'Race_Asian',\n",
    "                         'Race_Black_African_American', 'Race_Hawaiian_Pacific_Islander',\n",
    "                         'Race_Caucasian', 'site_bulbar', 'site_limb','Onset_Delta', 'Diagnosis_Delta', 'RiluzoleUse', 'Height', 'Weight',\n",
    "                         'Pulse', 'Respiratory_Rate', 'BP_Diastolic',\n",
    "                         'BP_Systolic', 'FVC_abs', 'FVC_normal', 'FVC_perc', 'ALT', 'AST',\n",
    "       'UricAcid', 'BUN', 'Albumin', 'AbsNeutroCount', 'Protein', 'CK',\n",
    "       'TotCholesterol', 'Triglycerides', 'HbA1c', 'Hb', 'Hematocrit', 'WBC',\n",
    "       'RBC', 'Creatinine', 'Sodium', 'Potassium', 'Chloride', 'Glucose',\n",
    "       'Platelets', 'AbsEosinophil', 'AlkalinePhosphatase', 'Bicarbonate',\n",
    "       'Calcium', 'AbsLymphocyte', 'AbsMonocyte', 'AbsBasophil',\n",
    "       'BilirubinTotal', 'BilirubinDirect', 'BilirubinIndirect', 'GGT',\n",
    "       'PercLymphocytes', 'PercMonocytes', 'PercBasophils', 'Phosphorus',\n",
    "       'PercEosinophils', 'alsfrs_q1', 'alsfrs_q2', 'alsfrs_q3', 'alsfrs_q4',\n",
    "       'alsfrs_q5a', 'alsfrs_q5b', 'alsfrs_q6', 'alsfrs_q7', 'alsfrs_q8',\n",
    "       'alsfrs_q9', 'alsfrs_q10', 'alsfrs', 'alsfrsr', 'alsfrs_r1',\n",
    "       'alsfrs_r2', 'alsfrs_r3'])"
   ]
  },
  {
   "cell_type": "code",
   "execution_count": null,
   "id": "d06efc9b-bb73-4df3-9614-277da97c6cbe",
   "metadata": {},
   "outputs": [],
   "source": [
    "# drop subjects with only one delta\n",
    "df = df[~df['subject_id'].isin(df.groupby('subject_id')['delta'].count()[df.groupby('subject_id')['delta'].count()<=1].index)]"
   ]
  },
  {
   "cell_type": "code",
   "execution_count": null,
   "id": "d1f027e4-7277-45b8-87f6-9e0e9f15ca3c",
   "metadata": {},
   "outputs": [],
   "source": [
    "# drop subjects with no single measurement of alsfrs or alsfrsr\n",
    "tmp = df.groupby('subject_id')[['alsfrs','alsfrsr']].agg(np.nanmean)\n",
    "df = df[~df['subject_id'].isin(tmp[tmp['alsfrs'].isnull() & tmp['alsfrsr'].isnull()].index)]"
   ]
  },
  {
   "cell_type": "code",
   "execution_count": null,
   "id": "5f550d6d-9675-4559-9d12-d4652c2f98d4",
   "metadata": {},
   "outputs": [],
   "source": [
    "df = df.sort_values(['subject_id','delta'])\n",
    "df = df.reset_index(drop=True)"
   ]
  },
  {
   "cell_type": "markdown",
   "id": "71b531e1-66af-49e6-ae07-c9d0a1c6f02d",
   "metadata": {},
   "source": [
    "## Clean and add additional vars"
   ]
  },
  {
   "cell_type": "markdown",
   "id": "5e94eb1e-566d-4300-988f-b07597a54ac8",
   "metadata": {},
   "source": [
    "BMI"
   ]
  },
  {
   "cell_type": "code",
   "execution_count": null,
   "id": "a6caf078-cca5-4c63-b17b-9a796b45c640",
   "metadata": {},
   "outputs": [],
   "source": [
    "df['BMI'] = df['Weight']/((df['Height']/100)**2)"
   ]
  },
  {
   "cell_type": "code",
   "execution_count": null,
   "id": "a7fdd5cd-1bcb-4ed9-abab-85b1185f6f6c",
   "metadata": {},
   "outputs": [],
   "source": [
    "df.to_csv('ALSdatacleaned.csv')"
   ]
  },
  {
   "cell_type": "code",
   "execution_count": null,
   "id": "718db6e8-e482-44b8-a8d1-a1f3719cf5e9",
   "metadata": {},
   "outputs": [],
   "source": []
  }
 ],
 "metadata": {
  "kernelspec": {
   "display_name": "Python 3 (ipykernel)",
   "language": "python",
   "name": "python3"
  },
  "language_info": {
   "codemirror_mode": {
    "name": "ipython",
    "version": 3
   },
   "file_extension": ".py",
   "mimetype": "text/x-python",
   "name": "python",
   "nbconvert_exporter": "python",
   "pygments_lexer": "ipython3",
   "version": "3.9.7"
  }
 },
 "nbformat": 4,
 "nbformat_minor": 5
}
